{
  "nbformat": 4,
  "nbformat_minor": 0,
  "metadata": {
    "colab": {
      "provenance": []
    },
    "kernelspec": {
      "name": "python3",
      "display_name": "Python 3"
    },
    "language_info": {
      "name": "python"
    }
  },
  "cells": [
    {
      "cell_type": "code",
      "execution_count": 150,
      "metadata": {
        "id": "XP25NdwXEHwh"
      },
      "outputs": [],
      "source": [
        "!pip install --qu langgraph langchain_core langchain-google-genai langchain_community\n",
        "!pip install --qu  tavily-python"
      ]
    },
    {
      "cell_type": "code",
      "source": [
        "\n",
        "\n",
        "from google.colab import userdata\n",
        "\n",
        "import random\n",
        "from langchain_core.messages import SystemMessage,AIMessage,HumanMessage,BaseMessage,AnyMessage"
      ],
      "metadata": {
        "id": "o-F50_1GEeau"
      },
      "execution_count": 151,
      "outputs": []
    },
    {
      "cell_type": "code",
      "source": [
        "gemini_api_key=userdata.get(\"GOOGLE_API_KEY\")\n",
        "tavily_api_key=userdata.get(\"TAVILY_API_KEY\")"
      ],
      "metadata": {
        "id": "BBN-4aTOEum9"
      },
      "execution_count": 152,
      "outputs": []
    },
    {
      "cell_type": "code",
      "source": [
        "from langchain_google_genai import ChatGoogleGenerativeAI\n",
        "llm=ChatGoogleGenerativeAI(model=\"gemini-1.5-flash\", api_key=gemini_api_key)\n",
        "#result=llm.invoke(messages)\n",
        "#type(result)"
      ],
      "metadata": {
        "id": "75cWDmqZ2Qp7"
      },
      "execution_count": 153,
      "outputs": []
    },
    {
      "cell_type": "code",
      "source": [
        "from langchain_community.tools.tavily_search import TavilySearchResults"
      ],
      "metadata": {
        "id": "g0gmolVOediO"
      },
      "execution_count": 154,
      "outputs": []
    },
    {
      "cell_type": "markdown",
      "source": [
        "Tool"
      ],
      "metadata": {
        "id": "3hJiS8295W7d"
      }
    },
    {
      "cell_type": "code",
      "source": [
        "def multiply(a:int,b:int)->int:\n",
        "  \"\"\"Multiply a and b\n",
        "  Args:\n",
        "    a:int\n",
        "    b:int\n",
        "  Returns:\n",
        "    int:a*b\n",
        "  \"\"\"\n",
        "  return a*b\n",
        "\n",
        "\n"
      ],
      "metadata": {
        "id": "9IjCLTL05Yks"
      },
      "execution_count": 155,
      "outputs": []
    },
    {
      "cell_type": "code",
      "source": [
        "def add (a:int,b:int)->int:\n",
        "    \"\"\"Add a and b\n",
        "    Args:\n",
        "    a:int\n",
        "    b:int\n",
        "    Returns:\n",
        "    int:a*b\n",
        "    \"\"\"\n",
        "    return a+b"
      ],
      "metadata": {
        "id": "WYOEjJJm2h6i"
      },
      "execution_count": 156,
      "outputs": []
    },
    {
      "cell_type": "code",
      "source": [
        "\n",
        "from tavily import TavilyClient\n",
        "\n",
        "def find(a: str)->str:\n",
        "  \"\"\" Return search results from TavilySearch\n",
        "  \"\"\"\n",
        "  tavily_client = TavilyClient(api_key=tavily_api_key)\n",
        "  response = tavily_client.search(a)\n",
        "\n",
        "  return {\"response\": response}"
      ],
      "metadata": {
        "id": "ZPOnDMyGfSrx"
      },
      "execution_count": 157,
      "outputs": []
    },
    {
      "cell_type": "code",
      "source": [
        "tools=[multiply,add,find]"
      ],
      "metadata": {
        "id": "qBLIQ-ju2IHr"
      },
      "execution_count": 158,
      "outputs": []
    },
    {
      "cell_type": "code",
      "source": [
        "llm=ChatGoogleGenerativeAI(model='gemini-1.5-flash', api_key=gemini_api_key)"
      ],
      "metadata": {
        "id": "eo7SqPea2tJf"
      },
      "execution_count": 159,
      "outputs": []
    },
    {
      "cell_type": "code",
      "source": [
        "llm_with_tools=llm.bind_tools(tools)"
      ],
      "metadata": {
        "id": "l9eldl6Q2H6m"
      },
      "execution_count": 160,
      "outputs": []
    },
    {
      "cell_type": "code",
      "source": [
        "from langgraph.graph import MessagesState\n",
        "from langchain_core.messages import SystemMessage,AIMessage,HumanMessage,BaseMessage,AnyMessage\n",
        "sys_message=[SystemMessage(content=\"You are a helpful assistant tasked with performing arithmatic on set of inputs\")]\n",
        "\n",
        "\n",
        "\n",
        "\n"
      ],
      "metadata": {
        "id": "dbx76B7GAkA6"
      },
      "execution_count": 161,
      "outputs": []
    },
    {
      "cell_type": "code",
      "source": [
        "def assistant1(state:MessagesState):\n",
        "  return{ \"messages\":[llm.invoke(state[\"messages\"][-1:])]}\n",
        "\n",
        "    #{\"messages\":[llm_with_tools.invoke([sys_message]+state[\"messages\"])]}"
      ],
      "metadata": {
        "id": "AbBmZUOg4b7B"
      },
      "execution_count": 162,
      "outputs": []
    },
    {
      "cell_type": "code",
      "source": [
        "def assistant(state:MessagesState):\n",
        "  return{\"messages\":[llm_with_tools.invoke(sys_message + state[\"messages\"])]}\n",
        "  # Remove extra brackets around sys_message"
      ],
      "metadata": {
        "id": "1e60VhBzCM1-"
      },
      "execution_count": 163,
      "outputs": []
    },
    {
      "cell_type": "code",
      "source": [
        "from langgraph.graph import START,END, StateGraph\n",
        "from langgraph.prebuilt import tools_condition\n",
        "from langgraph.prebuilt import ToolNode\n",
        "from IPython.display import Image, display\n",
        "from langgraph.checkpoint.memory import MemorySaver\n",
        "\n"
      ],
      "metadata": {
        "id": "N12o1jDy5yxq"
      },
      "execution_count": 164,
      "outputs": []
    },
    {
      "cell_type": "code",
      "source": [],
      "metadata": {
        "id": "YBbUCrr66yiF"
      },
      "execution_count": 164,
      "outputs": []
    },
    {
      "cell_type": "code",
      "source": [
        "builder=StateGraph(MessagesState)\n",
        "builder.add_node(\"assistant\", assistant)\n",
        "builder.add_node(\"tools\",ToolNode(tools))\n",
        "builder.add_edge(START,\"assistant\")\n",
        "builder.add_conditional_edges(\"assistant\",tools_condition)\n",
        "builder.add_edge(\"tools\", \"assistant\")\n",
        "memory =MemorySaver()\n",
        "react_graph=builder.compile(checkpointer=memory)"
      ],
      "metadata": {
        "id": "hhe-WEbH62_Z"
      },
      "execution_count": 165,
      "outputs": []
    },
    {
      "cell_type": "code",
      "source": [
        "display(Image(react_graph.get_graph().draw_mermaid_png()))"
      ],
      "metadata": {
        "colab": {
          "base_uri": "https://localhost:8080/",
          "height": 266
        },
        "id": "tu5uipXI84WD",
        "outputId": "28484f36-6a8a-4157-da5a-a25c6439f2ec"
      },
      "execution_count": 166,
      "outputs": [
        {
          "output_type": "display_data",
          "data": {
            "image/png": "[encoded data removed]",
            "text/plain": [
              "<IPython.core.display.Image object>"
            ]
          },
          "metadata": {}
        }
      ]
    },
    {
      "cell_type": "code",
      "source": [
        "config={\n",
        "    \"configurable\":{\"thread_id\": \"1\"}\n",
        "}"
      ],
      "metadata": {
        "id": "VR4tprDt_tyU"
      },
      "execution_count": 167,
      "outputs": []
    },
    {
      "cell_type": "code",
      "source": [
        "messages=[HumanMessage(content=\"find about Summer Olympic games where these were held last time\")]\n",
        "messages=react_graph.invoke({\"messages\":messages},config)\n",
        "\n",
        "for m in messages['messages']:\n",
        "  m.pretty_print()\n",
        "\n",
        "\n"
      ],
      "metadata": {
        "colab": {
          "base_uri": "https://localhost:8080/"
        },
        "id": "AAACo4nx-CvZ",
        "outputId": "7aef3d93-4be0-4618-c7f6-36595893ef19"
      },
      "execution_count": 168,
      "outputs": [
        {
          "output_type": "stream",
          "name": "stdout",
          "text": [
            "================================\u001b[1m Human Message \u001b[0m=================================\n",
            "\n",
            "find about Summer Olympic games where these were held last time\n",
            "==================================\u001b[1m Ai Message \u001b[0m==================================\n",
            "Tool Calls:\n",
            "  find (5805006d-07ff-458a-9a78-a40a4ca13cd7)\n",
            " Call ID: 5805006d-07ff-458a-9a78-a40a4ca13cd7\n",
            "  Args:\n",
            "    a: Summer Olympic games\n",
            "=================================\u001b[1m Tool Message \u001b[0m=================================\n",
            "Name: find\n",
            "\n",
            "{\"response\": {\"query\": \"Summer Olympic games\", \"follow_up_questions\": null, \"answer\": null, \"images\": [], \"results\": [{\"title\": \"Summer Olympic Games | Dates, Locations, Facts, & Athletes - Britannica\", \"url\": \"https://www.britannica.com/sports/Summer-Olympic-Games\", \"content\": \"Learn about the history, evolution, and achievements of the Summer Olympic Games, the international sports event held every four years. Explore the facts, moments, and athletes of each edition from 1896 to 2024.\", \"score\": 0.99746895, \"raw_content\": null}, {\"title\": \"Olympic Games - Summer, Winter Olympics, YOG & Paralympics\", \"url\": \"https://olympics.com/en/olympic-games\", \"content\": \"Olympic Games - Summer, Winter Olympics, YOG & Paralympics Milano Cortina 2026 Olympic Games Olympic Channel Olympic Games The Olympic Games are the world's only truly global, multi-sport, celebratory athletics competition. With more than 200 countries participating in over 400 events across the Summer and Winter Games, the Olympics are where the world comes to compete, feel inspired, and be together. Future Games 6 February - 22 FebruaryMilano Cortina Youth Olympic Games The Youth Olympic Games are an international sports, cultural, and educational event for talented young athletes. Learn more about Youth Olympics Paralympic Games The Paralympic Games provide a platform for Para athletes with a diverse range of impairments to showcase their outstanding abilities to millions of spectators and billions of TV viewers.\", \"score\": 0.9870297, \"raw_content\": null}, {\"title\": \"Paris 2024 Olympics - Latest News, Schedules & Results\", \"url\": \"https://olympics.com/en/paris-2024\", \"content\": \"Welcome to the Paris 2024 Summer Olympic Games website. Follow the world's top athletes as they go for gold in France (Jul 26-Aug 11, 2024). ... The Olympic Games Paris 2024 mascot was the Olympic Phryge. The mascot was based on the traditional small Phrygian hats for which they are shaped after.\", \"score\": 0.9076402, \"raw_content\": null}, {\"title\": \"Paris Olympics 2024: Event facts - surfing, breaking, mascots, Eiffel ...\", \"url\": \"https://www.aljazeera.com/news/2024/7/18/paris-olympics-2024-fast-facts-surfing-breaking-mascots-eiffel-tower\", \"content\": \"The 2024 Olympic Games will begin on July 26 in Paris, France as 10,500 athletes will compete to get their hands on coveted sports medals. ... and will be held August 9-10 in Paris following its\", \"score\": 0.8987666, \"raw_content\": null}, {\"title\": \"Paris Olympics: What to know ahead of the 2024 Summer Games - NPR\", \"url\": \"https://www.npr.org/2024/07/24/nx-s1-5036525/2024-paris-olympics-preview\", \"content\": \"Breaking will make its Olympics debut. Following the previous Summer Games' addition of skateboarding and surfing, another sport with counterculture roots will take the Olympics stage for the\", \"score\": 0.8916225, \"raw_content\": null}], \"response_time\": 2.18}}\n",
            "==================================\u001b[1m Ai Message \u001b[0m==================================\n",
            "\n",
            "The last Summer Olympic games were held in Paris in 2024.  The next Summer Olympics will be held in Los Angeles in 2028.\n"
          ]
        }
      ]
    },
    {
      "cell_type": "code",
      "source": [
        "#messages=[HumanMessage(content=\" add 2 in that and then divide from 4 also tell me about AI\")]\n",
        "#messages=react_graph.invoke({\"messages\":messages},config)\n",
        "\n",
        "#for m in messages['messages']:\n",
        "  #m.pretty_print()\n"
      ],
      "metadata": {
        "id": "n9zw3IVLHA55"
      },
      "execution_count": 169,
      "outputs": []
    },
    {
      "cell_type": "code",
      "source": [
        "messages=[HumanMessage(content=\" find who won volley ball medal of last  games\")]\n",
        "messages=react_graph.invoke({\"messages\":messages},config)\n",
        "\n",
        "for m in messages['messages']:\n",
        "  m.pretty_print()\n"
      ],
      "metadata": {
        "colab": {
          "base_uri": "https://localhost:8080/"
        },
        "id": "lJ7fR54dldRP",
        "outputId": "883403b2-b73b-4207-f3a3-ab0adac4be17"
      },
      "execution_count": 170,
      "outputs": [
        {
          "output_type": "stream",
          "name": "stdout",
          "text": [
            "================================\u001b[1m Human Message \u001b[0m=================================\n",
            "\n",
            "find about Summer Olympic games where these were held last time\n",
            "==================================\u001b[1m Ai Message \u001b[0m==================================\n",
            "Tool Calls:\n",
            "  find (5805006d-07ff-458a-9a78-a40a4ca13cd7)\n",
            " Call ID: 5805006d-07ff-458a-9a78-a40a4ca13cd7\n",
            "  Args:\n",
            "    a: Summer Olympic games\n",
            "=================================\u001b[1m Tool Message \u001b[0m=================================\n",
            "Name: find\n",
            "\n",
            "{\"response\": {\"query\": \"Summer Olympic games\", \"follow_up_questions\": null, \"answer\": null, \"images\": [], \"results\": [{\"title\": \"Summer Olympic Games | Dates, Locations, Facts, & Athletes - Britannica\", \"url\": \"https://www.britannica.com/sports/Summer-Olympic-Games\", \"content\": \"Learn about the history, evolution, and achievements of the Summer Olympic Games, the international sports event held every four years. Explore the facts, moments, and athletes of each edition from 1896 to 2024.\", \"score\": 0.99746895, \"raw_content\": null}, {\"title\": \"Olympic Games - Summer, Winter Olympics, YOG & Paralympics\", \"url\": \"https://olympics.com/en/olympic-games\", \"content\": \"Olympic Games - Summer, Winter Olympics, YOG & Paralympics Milano Cortina 2026 Olympic Games Olympic Channel Olympic Games The Olympic Games are the world's only truly global, multi-sport, celebratory athletics competition. With more than 200 countries participating in over 400 events across the Summer and Winter Games, the Olympics are where the world comes to compete, feel inspired, and be together. Future Games 6 February - 22 FebruaryMilano Cortina Youth Olympic Games The Youth Olympic Games are an international sports, cultural, and educational event for talented young athletes. Learn more about Youth Olympics Paralympic Games The Paralympic Games provide a platform for Para athletes with a diverse range of impairments to showcase their outstanding abilities to millions of spectators and billions of TV viewers.\", \"score\": 0.9870297, \"raw_content\": null}, {\"title\": \"Paris 2024 Olympics - Latest News, Schedules & Results\", \"url\": \"https://olympics.com/en/paris-2024\", \"content\": \"Welcome to the Paris 2024 Summer Olympic Games website. Follow the world's top athletes as they go for gold in France (Jul 26-Aug 11, 2024). ... The Olympic Games Paris 2024 mascot was the Olympic Phryge. The mascot was based on the traditional small Phrygian hats for which they are shaped after.\", \"score\": 0.9076402, \"raw_content\": null}, {\"title\": \"Paris Olympics 2024: Event facts - surfing, breaking, mascots, Eiffel ...\", \"url\": \"https://www.aljazeera.com/news/2024/7/18/paris-olympics-2024-fast-facts-surfing-breaking-mascots-eiffel-tower\", \"content\": \"The 2024 Olympic Games will begin on July 26 in Paris, France as 10,500 athletes will compete to get their hands on coveted sports medals. ... and will be held August 9-10 in Paris following its\", \"score\": 0.8987666, \"raw_content\": null}, {\"title\": \"Paris Olympics: What to know ahead of the 2024 Summer Games - NPR\", \"url\": \"https://www.npr.org/2024/07/24/nx-s1-5036525/2024-paris-olympics-preview\", \"content\": \"Breaking will make its Olympics debut. Following the previous Summer Games' addition of skateboarding and surfing, another sport with counterculture roots will take the Olympics stage for the\", \"score\": 0.8916225, \"raw_content\": null}], \"response_time\": 2.18}}\n",
            "==================================\u001b[1m Ai Message \u001b[0m==================================\n",
            "\n",
            "The last Summer Olympic games were held in Paris in 2024.  The next Summer Olympics will be held in Los Angeles in 2028.\n",
            "================================\u001b[1m Human Message \u001b[0m=================================\n",
            "\n",
            " find who won volley ball medal of last  games\n",
            "==================================\u001b[1m Ai Message \u001b[0m==================================\n",
            "Tool Calls:\n",
            "  find (33825ae8-3b96-4e93-87f4-69b107bc74ff)\n",
            " Call ID: 33825ae8-3b96-4e93-87f4-69b107bc74ff\n",
            "  Args:\n",
            "    a: Volleyball medals last Olympics\n",
            "=================================\u001b[1m Tool Message \u001b[0m=================================\n",
            "Name: find\n",
            "\n",
            "{\"response\": {\"query\": \"Volleyball medals last Olympics\", \"follow_up_questions\": null, \"answer\": null, \"images\": [], \"results\": [{\"title\": \"Volleyball Olympic Winners List - Men & Women - Sporting99.com\", \"url\": \"https://olympics.sporting99.com/olympic-records/volleyball.html\", \"content\": \"List of Olympic gold medals won in Volleyball since the inclusion of the sport in the 1964 Tokyo Games. ... The most successful teams have been Russia and USA. In last Olympic Games held in Beijing in 2008, USA and Brazil won gold medals. In the 2012 London Games, the competition will be held at Earls Court from 28th July to 12th August. 12\", \"score\": 0.99657035, \"raw_content\": null}, {\"title\": \"Olympics Women's Volleyball Winners - List of Gold, Silver & Bronze ...\", \"url\": \"https://olympics.sporting99.com/track-field/womens-volleyball.html\", \"content\": \"Since then Women's Volleyball is a regular sports event at every Olympic Games. The following medals tally lists all medalists in Women's Volleyball competition at Olympic Games. Women's Volleyball Winners at Olympics. Year. Gold Silver Bronze; 1964: Japan: Soviet Union: Poland: 1968: Soviet Union: Japan: Poland: 1972: Soviet Union:\", \"score\": 0.984516, \"raw_content\": null}, {\"title\": \"List of Olympic medalists in volleyball - Wikipedia\", \"url\": \"https://en.wikipedia.org/wiki/List_of_Olympic_medalists_in_volleyball\", \"content\": \"Chinese Lang Ping was the first player to win gold medals as player and coach, as part of the Los Angeles 1984 People's Republic of China squad and leading the Rio 2016 team (she also led the United States' women to the silver in 2008). [1]Volleyball is one of the sports that is played at the Summer Olympic Games in two disciplines: the traditional six-per-side indoor game, and the newer game\", \"score\": 0.98327893, \"raw_content\": null}, {\"title\": \"Olympic volleyball results by year - acceptance.nbcolympics.com\", \"url\": \"https://acceptance.nbcolympics.com/news/volleyball-101-olympic-history-records-and-results\", \"content\": \"Host country Brazil won its third Olympic men's volleyball title after losing in the gold medal match at the previous two GamesIts victory against runner-up Italy was the first 3-0 final win since the 2000 Sydney Olympics. Both teams traded points in game four, but Brazil held on to win, 25-22, earning its second men's volleyball gold medal. With a chance to become the first women's team -- in any sport -- to earn three consectuive Olympic gold medals, Cuba dropped the first two sets of the Sydney final against Russia. One of the greatest teams in sports history, a group of women's volleyball players representing a factory north of Osaka, Japan, won 157 consecutive matches, a world title and Olympic gold during a four-year run in the early 1960s.\", \"score\": 0.9787533, \"raw_content\": null}, {\"title\": \"The All-Time Volleyball Medal Table at the Olympic Games\", \"url\": \"https://worldofvolley.com/blog/323451/the-all-time-volleyball-medal-table-at-the-olympic-games.html\", \"content\": \"WorldofVolley :: The All-Time Volleyball Medal Table at the Olympic Games - WorldOfVolley Home » The All-Time Volleyball Medal Table at the Olympic Games The Soviet Union’s dominance in Olympic volleyball was unparalleled, marked by an impressive haul of seven gold medals, four silvers, and one bronze. 1964 Tokyo: The Soviet men’s team won the first-ever Olympic gold in volleyball. The men’s team clinched their first gold medal at the 1984 Los Angeles Olympics, capitalizing on home advantage to dispatch Brazil 3-0. The women’s team, after years of near-misses, finally snagged their first gold at the 2020 Tokyo Olympics, and they too will be aiming for consecutive triumphs when the action gets underway in France later this summer.\", \"score\": 0.9783019, \"raw_content\": null}], \"response_time\": 2.09}}\n",
            "==================================\u001b[1m Ai Message \u001b[0m==================================\n",
            "\n",
            "The provided text does not specify the winners of the volleyball medals from the most recent Olympic games.  To answer your question accurately, I need to know which Olympic games you are referring to (e.g., Paris 2024, Tokyo 2020).\n"
          ]
        }
      ]
    }
  ]
}